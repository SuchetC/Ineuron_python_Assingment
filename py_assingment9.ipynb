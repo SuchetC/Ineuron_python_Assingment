{
 "cells": [
  {
   "cell_type": "code",
   "execution_count": null,
   "id": "13d902f2",
   "metadata": {},
   "outputs": [],
   "source": [
    "# 1. To what does a relative path refer?\n",
    "path that describes the location of a directory relative to the entry point where you run the Python script."
   ]
  },
  {
   "cell_type": "code",
   "execution_count": null,
   "id": "4b402324",
   "metadata": {},
   "outputs": [],
   "source": [
    "# 2. What does an absolute path start with your operating system?\n",
    "An absolute path contains the full set of directories from the root of the file system up to your target file or directory"
   ]
  },
  {
   "cell_type": "code",
   "execution_count": null,
   "id": "1db1c3e9",
   "metadata": {},
   "outputs": [],
   "source": [
    "# 3. What do the functions os.getcwd() and os.chdir() do?\n",
    "getcwd() : CWD stands for Current Working Directory. This function allows you to see what your current working directory is\n",
    "os.chdir(): is used for change directory"
   ]
  },
  {
   "cell_type": "code",
   "execution_count": null,
   "id": "1a63d7e2",
   "metadata": {},
   "outputs": [],
   "source": [
    "# 4. What are the . and .. folders?\n",
    ". reprasents the current directory\n",
    ".. reprasents the parent directory\n"
   ]
  },
  {
   "cell_type": "code",
   "execution_count": null,
   "id": "bf554201",
   "metadata": {},
   "outputs": [],
   "source": [
    "# 5. In C:\\bacon\\eggs\\spam.txt, which part is the dir name, and which part is the base name?\n",
    "C:\\bacon\\eggs\\ is a directory name\n",
    "spam.txt is a base name\n",
    "    \n"
   ]
  },
  {
   "cell_type": "code",
   "execution_count": null,
   "id": "2d1a210b",
   "metadata": {},
   "outputs": [],
   "source": [
    "# 6. What are the three “mode” arguments that can be passed to the open() function?\n",
    "‘r’ mode, the file opens in the read mode.\n",
    "open(\"myfile.txt\") or open(\"myfile.txt\", \"r\")    \n",
    "\n",
    "‘w’ mode, the file opens in write mode.\n",
    "open(\"myfile.txt\", \"w\")\n",
    "\n",
    "‘a’ mode, the file opens in append mode.\n",
    "open(\"myfile.txt\", \"a\")\n",
    "    "
   ]
  },
  {
   "cell_type": "code",
   "execution_count": null,
   "id": "6876e2fd",
   "metadata": {},
   "outputs": [],
   "source": [
    "# 7. What happens if an existing file is opened in write mode?\n",
    "content of the existing file will be cleared "
   ]
  },
  {
   "cell_type": "code",
   "execution_count": null,
   "id": "a91b8f90",
   "metadata": {},
   "outputs": [],
   "source": [
    "# 8. How do you tell the difference between read() and readlines()?\n",
    "The read() will read the whole file at once and then print out the first characters that take up as many bytes as you specify in the parenthesis\n",
    "\n",
    "The readlines() method to get a list of string values from the file, one string for each line of text.\n"
   ]
  },
  {
   "cell_type": "code",
   "execution_count": null,
   "id": "a10ce50f",
   "metadata": {},
   "outputs": [],
   "source": [
    "# 9. What data structure does a shelf value resemble?\n",
    " A shelf value resembles a dictionary value (key-value pair)\n"
   ]
  }
 ],
 "metadata": {
  "kernelspec": {
   "display_name": "Python 3 (ipykernel)",
   "language": "python",
   "name": "python3"
  },
  "language_info": {
   "codemirror_mode": {
    "name": "ipython",
    "version": 3
   },
   "file_extension": ".py",
   "mimetype": "text/x-python",
   "name": "python",
   "nbconvert_exporter": "python",
   "pygments_lexer": "ipython3",
   "version": "3.9.12"
  }
 },
 "nbformat": 4,
 "nbformat_minor": 5
}
