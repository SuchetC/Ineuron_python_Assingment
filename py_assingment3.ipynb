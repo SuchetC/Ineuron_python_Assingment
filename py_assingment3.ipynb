{
 "cells": [
  {
   "cell_type": "code",
   "execution_count": 2,
   "id": "c158cb04",
   "metadata": {},
   "outputs": [],
   "source": [
    "# 1. Why are functions advantageous to have in your programs?\n",
    "functions has a sent of instructions to do specific task, if we wants to execute same task then we can call that function only with name, \n",
    "it avoids writing same set of code again and again"
   ]
  },
  {
   "cell_type": "code",
   "execution_count": null,
   "id": "35e40eef",
   "metadata": {},
   "outputs": [],
   "source": [
    "#2. When does the code in a function run: when it's specified or when it's called?\n",
    "code in a function runs when it is called"
   ]
  },
  {
   "cell_type": "code",
   "execution_count": null,
   "id": "a770c469",
   "metadata": {},
   "outputs": [],
   "source": [
    "#3. What statement creates a function?\n",
    "def"
   ]
  },
  {
   "cell_type": "code",
   "execution_count": null,
   "id": "4d50dab7",
   "metadata": {},
   "outputs": [],
   "source": [
    "# 4. What is the difference between a function and a function call?\n",
    "function - we create a function with def keyword and function call under that we write the set of instructions\n",
    "function call - we can make function call with function name and parenthesis to execute set of instructions \n",
    "\n",
    "def print_fun(): # function\n",
    "    print(\"Hello\")\n",
    "    \n",
    "print_fun() # function call    \n",
    "    \n",
    "    "
   ]
  },
  {
   "cell_type": "code",
   "execution_count": null,
   "id": "570c445d",
   "metadata": {},
   "outputs": [],
   "source": [
    "# 5. How many global scopes are there in a Python program? How many local scopes?\n",
    "there are 1 global and 1 local scope is there in phython\n",
    "\n",
    "a = 10  # this is global\n",
    "\n",
    "def fun():\n",
    "    b=10 # this is local"
   ]
  },
  {
   "cell_type": "code",
   "execution_count": null,
   "id": "750aa296",
   "metadata": {},
   "outputs": [],
   "source": [
    "# 6. What happens to variables in a local scope when the function call returns?\n",
    "it is distroyed"
   ]
  },
  {
   "cell_type": "code",
   "execution_count": null,
   "id": "5f0cfc4a",
   "metadata": {},
   "outputs": [],
   "source": [
    "# 7. What is the concept of a return value? Is it possible to have a return value in an expression?\n",
    "return value - it will return value to main function,\n",
    "Yes, it possible to have a return value in an expression"
   ]
  },
  {
   "cell_type": "code",
   "execution_count": null,
   "id": "039a589e",
   "metadata": {},
   "outputs": [],
   "source": [
    "# 8. If a function does not have a return statement, what is the return value of a call to that function?\n",
    "it will not return any value"
   ]
  },
  {
   "cell_type": "code",
   "execution_count": null,
   "id": "bf3056a5",
   "metadata": {},
   "outputs": [],
   "source": [
    "# 9. How do you make a function variable refer to the global variable?\n",
    "by using keyword global we can make a function variable refer to the global variable"
   ]
  },
  {
   "cell_type": "code",
   "execution_count": null,
   "id": "8906f45d",
   "metadata": {},
   "outputs": [],
   "source": [
    "# 10. What is the data type of None?\n",
    "NoneType"
   ]
  },
  {
   "cell_type": "code",
   "execution_count": null,
   "id": "09cd55de",
   "metadata": {},
   "outputs": [],
   "source": [
    "# 11. What does the sentence import areallyourpetsnamederic do?\n",
    "it will import the areallyourpetsnamederic module (this module not exists in py)"
   ]
  },
  {
   "cell_type": "code",
   "execution_count": null,
   "id": "83004902",
   "metadata": {},
   "outputs": [],
   "source": [
    "# 12. If you had a bacon() feature in a spam module, what would you call it after importing spam?\n",
    "import spam\n",
    "spam.bacon()"
   ]
  },
  {
   "cell_type": "code",
   "execution_count": null,
   "id": "f0724892",
   "metadata": {},
   "outputs": [],
   "source": [
    "# 13. What can you do to save a programme from crashing if it encounters an error?\n",
    "we can use try-except block"
   ]
  },
  {
   "cell_type": "code",
   "execution_count": 3,
   "id": "16dbd605",
   "metadata": {},
   "outputs": [
    {
     "name": "stdout",
     "output_type": "stream",
     "text": [
      "tuples ate immutable\n"
     ]
    }
   ],
   "source": [
    "# 14. What is the purpose of the try clause? What is the purpose of the except clause?\n",
    "# try clause - we can write statements which are possible to get an errors\n",
    "# except clause - it is used to handle the error if error occured in the try block \n",
    "\n",
    "t = (1,2,3,4)\n",
    "\n",
    "try:\n",
    "    del(t[2])\n",
    "    \n",
    "except:\n",
    "    print(\"tuples ate immutable\")\n"
   ]
  },
  {
   "cell_type": "code",
   "execution_count": null,
   "id": "f570cbb5",
   "metadata": {},
   "outputs": [],
   "source": []
  }
 ],
 "metadata": {
  "kernelspec": {
   "display_name": "Python 3 (ipykernel)",
   "language": "python",
   "name": "python3"
  },
  "language_info": {
   "codemirror_mode": {
    "name": "ipython",
    "version": 3
   },
   "file_extension": ".py",
   "mimetype": "text/x-python",
   "name": "python",
   "nbconvert_exporter": "python",
   "pygments_lexer": "ipython3",
   "version": "3.9.12"
  }
 },
 "nbformat": 4,
 "nbformat_minor": 5
}
