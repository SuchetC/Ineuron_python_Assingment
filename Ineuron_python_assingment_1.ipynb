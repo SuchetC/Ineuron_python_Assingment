{
 "cells": [
  {
   "cell_type": "markdown",
   "id": "9ae54577",
   "metadata": {},
   "source": [
    "# 1. In the below elements which of them are values or an expression? eg:- values can be integer or string and expressions will be mathematical operators.\n",
    "\n",
    "*         - Expresion\n",
    "'hello'   - value\n",
    "-87.8     - value\n",
    "-         - Expresion\n",
    "/         - Expresion\n",
    "+         - Expresion\n",
    "6         - Value\n",
    "\n",
    "\n",
    "\n"
   ]
  },
  {
   "cell_type": "markdown",
   "id": "6591e735",
   "metadata": {},
   "source": [
    "# 2. What is the difference between string and variable?\n",
    "\n",
    "string -string is a data type enclosed in a single or double quots,Consists of one or more charectores"
   ]
  },
  {
   "cell_type": "markdown",
   "id": "9476dc88",
   "metadata": {},
   "source": [
    "# 3. Describe three different data types.\n",
    "\n",
    "*Numaric Data Types - int , float ,complex which reprasents numeric , decimal or complex numbers\n",
    "\n",
    "*string Data Types - it reprasents charector or set of charectors which are enclosed in a quats\n",
    "*Boolean Data Types- which consists of True or False values\n",
    "*sequence Data Type - which consists of tuples , dictionary ,list all these are having index values in sequence for accessing and doing operations\n"
   ]
  },
  {
   "cell_type": "markdown",
   "id": "7804d033",
   "metadata": {},
   "source": [
    "# 4. What is an expression made up of? What do all expressions do?\n",
    "\n",
    "all Expressions are combination of operators and operands for finding out perticular value."
   ]
  },
  {
   "cell_type": "markdown",
   "id": "c99e47cc",
   "metadata": {},
   "source": [
    "# 5. This assignment statements, like spam = 10. What is the difference between an expression and a statement?\n",
    "Statements are not evaluated for the result,\n",
    "where statements are not evaluated for the result\n",
    "\n",
    " spam = 10 is a statment where value 10 is assinged to spam variable\n",
    "\n",
    "\n"
   ]
  },
  {
   "cell_type": "code",
   "execution_count": 3,
   "id": "ccb5304d",
   "metadata": {},
   "outputs": [
    {
     "name": "stdout",
     "output_type": "stream",
     "text": [
      "22\n"
     ]
    }
   ],
   "source": [
    "#6. After running the following code, what does the variable bacon contain?\n",
    "\n",
    "bacon = 22\n",
    "bacon + 1\n",
    "print(bacon)"
   ]
  },
  {
   "cell_type": "code",
   "execution_count": 4,
   "id": "1946a596",
   "metadata": {},
   "outputs": [
    {
     "ename": "NameError",
     "evalue": "name 'spam' is not defined",
     "output_type": "error",
     "traceback": [
      "\u001b[1;31m---------------------------------------------------------------------------\u001b[0m",
      "\u001b[1;31mNameError\u001b[0m                                 Traceback (most recent call last)",
      "Input \u001b[1;32mIn [4]\u001b[0m, in \u001b[0;36m<cell line: 4>\u001b[1;34m()\u001b[0m\n\u001b[0;32m      2\u001b[0m \u001b[38;5;124m'\u001b[39m\u001b[38;5;124mspam\u001b[39m\u001b[38;5;124m'\u001b[39m \u001b[38;5;241m+\u001b[39m \u001b[38;5;124m'\u001b[39m\u001b[38;5;124mspamspam\u001b[39m\u001b[38;5;124m'\u001b[39m\n\u001b[0;32m      3\u001b[0m \u001b[38;5;124m'\u001b[39m\u001b[38;5;124mspam\u001b[39m\u001b[38;5;124m'\u001b[39m \u001b[38;5;241m*\u001b[39m \u001b[38;5;241m3\u001b[39m\n\u001b[1;32m----> 4\u001b[0m \u001b[38;5;28mprint\u001b[39m(\u001b[43mspam\u001b[49m)\n\u001b[0;32m      5\u001b[0m \u001b[38;5;28mprint\u001b[39m(spamspam)\n",
      "\u001b[1;31mNameError\u001b[0m: name 'spam' is not defined"
     ]
    }
   ],
   "source": [
    "# 7. What should the values of the following two terms be?\n",
    "'spam' + 'spamspam'\n",
    "'spam' * 3\n",
    "print(spam)\n",
    "print(spamspam)"
   ]
  },
  {
   "cell_type": "markdown",
   "id": "6b42bf1f",
   "metadata": {},
   "source": [
    "# 8. Why is eggs a valid variable name while 100 is invalid?\n",
    "*eggs is valid variable because as a variable delcaration rule it satisfy all the rules like, it start with alphabet ,this variable not started with number.\n",
    "\n",
    "*100 is not valid because as variable declaration rules variable shoud not start with number"
   ]
  },
  {
   "cell_type": "markdown",
   "id": "d34112b8",
   "metadata": {},
   "source": [
    "# 9. What three functions can be used to get the integer, floating-point number, or string version of a value?\n",
    "* input()\n",
    "* int()\n",
    "* float()\n",
    "* string()"
   ]
  },
  {
   "cell_type": "markdown",
   "id": "8b4d9cc5",
   "metadata": {},
   "source": [
    "# 10. Why does this expression cause an error? How can you fix it?\n",
    "\n",
    "'I have eaten ' + 99 + ' burritos.'\n",
    "\n",
    "here we cannot concate string and integer,\n",
    "to fix this error we should convert 99 into string like '99'\n"
   ]
  },
  {
   "cell_type": "code",
   "execution_count": null,
   "id": "0db09990",
   "metadata": {},
   "outputs": [],
   "source": []
  }
 ],
 "metadata": {
  "kernelspec": {
   "display_name": "Python 3 (ipykernel)",
   "language": "python",
   "name": "python3"
  },
  "language_info": {
   "codemirror_mode": {
    "name": "ipython",
    "version": 3
   },
   "file_extension": ".py",
   "mimetype": "text/x-python",
   "name": "python",
   "nbconvert_exporter": "python",
   "pygments_lexer": "ipython3",
   "version": "3.9.12"
  }
 },
 "nbformat": 4,
 "nbformat_minor": 5
}
