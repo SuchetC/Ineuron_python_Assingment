{
 "cells": [
  {
   "cell_type": "code",
   "execution_count": 10,
   "id": "2128155f",
   "metadata": {},
   "outputs": [
    {
     "name": "stdout",
     "output_type": "stream",
     "text": [
      "My name is 'Suchet' \n",
      "\n",
      "This will insert one \\ (backslash)\n",
      "\n",
      "Hello \n",
      " Word\n",
      "\n",
      "Hello \t Word\n",
      "\n",
      "Hello \bWord\n",
      "\n"
     ]
    }
   ],
   "source": [
    "#1. What are escape characters, and how do you use them?\n",
    "\n",
    "# escape charectors are used to sepress illegal charectors inside the string like ('' or \"\")\n",
    "#An escape character is a backslash \\ followed by the character you want to insert\n",
    "    \n",
    "print(\"My name is \\'Suchet\\' \")    \n",
    "print()\n",
    "\n",
    "print(\"This will insert one \\\\ (backslash)\")\n",
    "print()\n",
    "\n",
    "print(\"Hello \\n Word\")\n",
    "print()\n",
    "\n",
    "print(\"Hello \\t Word\")\n",
    "print()\n",
    "\n",
    "print(\"Hello \\bWord\")\n",
    "print()\n",
    "\n",
    "\n"
   ]
  },
  {
   "cell_type": "code",
   "execution_count": 11,
   "id": "2b103758",
   "metadata": {},
   "outputs": [
    {
     "name": "stdout",
     "output_type": "stream",
     "text": [
      "Hello \n",
      " Word\n",
      "\n",
      "Hello \t Word\n",
      "\n"
     ]
    }
   ],
   "source": [
    "# 2. What do the escape characters n and t stand for?\n",
    "# \\n used for newLine\n",
    "# \\t used for 1 space\n",
    "\n",
    "print(\"Hello \\n Word\")\n",
    "print()\n",
    "\n",
    "print(\"Hello \\t Word\")\n",
    "print()"
   ]
  },
  {
   "cell_type": "code",
   "execution_count": 12,
   "id": "0ade5c5e",
   "metadata": {},
   "outputs": [
    {
     "name": "stdout",
     "output_type": "stream",
     "text": [
      "Hello \\ Word\n",
      "\n"
     ]
    }
   ],
   "source": [
    "#3. What is the way to include backslash characters in a string?\n",
    "\n",
    "print(\"Hello \\ Word\")\n",
    "print()\n"
   ]
  },
  {
   "cell_type": "code",
   "execution_count": 14,
   "id": "246a9bd5",
   "metadata": {},
   "outputs": [
    {
     "name": "stdout",
     "output_type": "stream",
     "text": [
      "Howl's Moving Castle\n"
     ]
    }
   ],
   "source": [
    "# 4. The string \"Howl's Moving Castle\" is a correct value. Why isn't the single quote character in the word Howl's not escaped a problem?\n",
    "\n",
    "print(\"Howl's Moving Castle\")\n",
    "\n",
    "in python its valid to use single quote inside the double quotes visa-versa\n"
   ]
  },
  {
   "cell_type": "code",
   "execution_count": 17,
   "id": "0213d1a6",
   "metadata": {},
   "outputs": [
    {
     "name": "stdout",
     "output_type": "stream",
     "text": [
      "This is the example for newline\n",
      "newline\n",
      "This is the example for newline\n",
      "newline\n"
     ]
    }
   ],
   "source": [
    "# 5. How do you write a string of newlines if you don't want to use the n character?\n",
    "\n",
    "\n",
    "print(\"This is the example for newline\",end = '\\n')\n",
    "print(\"newline\")\n",
    "\n",
    "       #or\n",
    "    \n",
    "print(\"This is the example for newline\")\n",
    "print(\"newline\")    "
   ]
  },
  {
   "cell_type": "code",
   "execution_count": 28,
   "id": "ca85350b",
   "metadata": {},
   "outputs": [
    {
     "name": "stdout",
     "output_type": "stream",
     "text": [
      "e\n",
      "Hello\n",
      "Hello\n",
      "lo, world!\n"
     ]
    }
   ],
   "source": [
    "# 6. What are the values of the given expressions?\n",
    "\n",
    "print('Hello, world!'[1])\n",
    "\n",
    "print('Hello, world!'[0:5])\n",
    "\n",
    "print('Hello, world!'[:5])\n",
    "\n",
    "print('Hello, world!'[3:])\n"
   ]
  },
  {
   "cell_type": "code",
   "execution_count": 30,
   "id": "bf33ea2f",
   "metadata": {},
   "outputs": [
    {
     "name": "stdout",
     "output_type": "stream",
     "text": [
      "HELLO\n",
      "True\n",
      "hello\n"
     ]
    }
   ],
   "source": [
    "# 7. What are the values of the following expressions?\n",
    "\n",
    "print('Hello'.upper())\n",
    "\n",
    "print('Hello'.upper().isupper())\n",
    "\n",
    "print('Hello'.upper().lower())\n"
   ]
  },
  {
   "cell_type": "code",
   "execution_count": 31,
   "id": "241422be",
   "metadata": {},
   "outputs": [
    {
     "name": "stdout",
     "output_type": "stream",
     "text": [
      "['Remember,', 'remember,', 'the', 'fifth', 'of', 'July.']\n",
      "There-can-only-one.\n"
     ]
    }
   ],
   "source": [
    "# 8. What are the values of the following expressions?\n",
    "\n",
    "print('Remember, remember, the fifth of July.'.split())\n",
    "\n",
    "print('-'.join('There can only one.'.split()))\n"
   ]
  },
  {
   "cell_type": "code",
   "execution_count": null,
   "id": "013f19b3",
   "metadata": {},
   "outputs": [],
   "source": []
  },
  {
   "cell_type": "code",
   "execution_count": 40,
   "id": "422ddfe0",
   "metadata": {},
   "outputs": [],
   "source": [
    "# 9. What are the methods for right-justifying, left-justifying, and centering a string?"
   ]
  },
  {
   "cell_type": "code",
   "execution_count": 47,
   "id": "07961bc7",
   "metadata": {},
   "outputs": [
    {
     "data": {
      "text/plain": [
       "'Suchet----'"
      ]
     },
     "execution_count": 47,
     "metadata": {},
     "output_type": "execute_result"
    }
   ],
   "source": [
    "# left justified\n",
    "\n",
    "str =\"Suchet\"\n",
    "str.ljust(10,\"-\")\n",
    "     \n",
    "     "
   ]
  },
  {
   "cell_type": "code",
   "execution_count": 45,
   "id": "5587948d",
   "metadata": {},
   "outputs": [
    {
     "data": {
      "text/plain": [
       "'******************************My name is'"
      ]
     },
     "execution_count": 45,
     "metadata": {},
     "output_type": "execute_result"
    }
   ],
   "source": [
    "# right justified\n",
    "\n",
    "str =\"My name is\"\n",
    "str.rjust(40,'*')"
   ]
  },
  {
   "cell_type": "code",
   "execution_count": 49,
   "id": "b46b1bc7",
   "metadata": {},
   "outputs": [
    {
     "data": {
      "text/plain": [
       "'*****************Suchet*****************'"
      ]
     },
     "execution_count": 49,
     "metadata": {},
     "output_type": "execute_result"
    }
   ],
   "source": [
    "\n",
    "# center justified\n",
    "str =\"Suchet\"\n",
    "str.center(40,'*')"
   ]
  },
  {
   "cell_type": "code",
   "execution_count": 50,
   "id": "73b8382c",
   "metadata": {},
   "outputs": [
    {
     "name": "stdout",
     "output_type": "stream",
     "text": [
      "suchet  \n"
     ]
    }
   ],
   "source": [
    "#10. What is the best way to remove whitespace characters from the start or end?\n",
    "str = \"  suchet  \"\n",
    "print(str.lstrip())\n"
   ]
  },
  {
   "cell_type": "code",
   "execution_count": 51,
   "id": "ba4a239c",
   "metadata": {},
   "outputs": [
    {
     "name": "stdout",
     "output_type": "stream",
     "text": [
      "  suchet\n"
     ]
    }
   ],
   "source": [
    "str = \"  suchet  \"\n",
    "print(str.rstrip())"
   ]
  },
  {
   "cell_type": "code",
   "execution_count": null,
   "id": "c2f1147d",
   "metadata": {},
   "outputs": [],
   "source": []
  }
 ],
 "metadata": {
  "kernelspec": {
   "display_name": "Python 3 (ipykernel)",
   "language": "python",
   "name": "python3"
  },
  "language_info": {
   "codemirror_mode": {
    "name": "ipython",
    "version": 3
   },
   "file_extension": ".py",
   "mimetype": "text/x-python",
   "name": "python",
   "nbconvert_exporter": "python",
   "pygments_lexer": "ipython3",
   "version": "3.9.12"
  }
 },
 "nbformat": 4,
 "nbformat_minor": 5
}
